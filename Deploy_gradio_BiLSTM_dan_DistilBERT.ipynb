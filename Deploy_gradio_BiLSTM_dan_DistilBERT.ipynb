{
  "nbformat": 4,
  "nbformat_minor": 0,
  "metadata": {
    "colab": {
      "provenance": [],
      "gpuType": "T4",
      "include_colab_link": true
    },
    "kernelspec": {
      "name": "python3",
      "display_name": "Python 3"
    },
    "language_info": {
      "name": "python"
    },
    "accelerator": "GPU"
  },
  "cells": [
    {
      "cell_type": "markdown",
      "metadata": {
        "id": "view-in-github",
        "colab_type": "text"
      },
      "source": [
        "<a href=\"https://colab.research.google.com/github/isaacyeremia/analisis-sentimet-ulasan-review-hotel/blob/main/Deploy_gradio_BiLSTM_dan_DistilBERT.ipynb\" target=\"_parent\"><img src=\"https://colab.research.google.com/assets/colab-badge.svg\" alt=\"Open In Colab\"/></a>"
      ]
    },
    {
      "cell_type": "markdown",
      "source": [
        "### Deploy BiLSTM dengan Gradio"
      ],
      "metadata": {
        "id": "u8fTRaeFkrnh"
      }
    },
    {
      "cell_type": "code",
      "execution_count": 1,
      "metadata": {
        "id": "WWKbOJHUkj5K",
        "colab": {
          "base_uri": "https://localhost:8080/",
          "height": 697
        },
        "outputId": "317c86ff-cacb-40fc-eaae-ee885e0f08f9"
      },
      "outputs": [
        {
          "output_type": "stream",
          "name": "stderr",
          "text": [
            "[nltk_data] Downloading package stopwords to /root/nltk_data...\n",
            "[nltk_data]   Unzipping corpora/stopwords.zip.\n",
            "WARNING:absl:Compiled the loaded model, but the compiled metrics have yet to be built. `model.compile_metrics` will be empty until you train or evaluate the model.\n"
          ]
        },
        {
          "output_type": "stream",
          "name": "stdout",
          "text": [
            "It looks like you are running Gradio on a hosted Jupyter notebook, which requires `share=True`. Automatically setting `share=True` (you can turn this off by setting `share=False` in `launch()` explicitly).\n",
            "\n",
            "Colab notebook detected. To show errors in colab notebook, set debug=True in launch()\n",
            "* Running on public URL: https://50b1967658157953ff.gradio.live\n",
            "\n",
            "This share link expires in 1 week. For free permanent hosting and GPU upgrades, run `gradio deploy` from the terminal in the working directory to deploy to Hugging Face Spaces (https://huggingface.co/spaces)\n"
          ]
        },
        {
          "output_type": "display_data",
          "data": {
            "text/plain": [
              "<IPython.core.display.HTML object>"
            ],
            "text/html": [
              "<div><iframe src=\"https://50b1967658157953ff.gradio.live\" width=\"100%\" height=\"500\" allow=\"autoplay; camera; microphone; clipboard-read; clipboard-write;\" frameborder=\"0\" allowfullscreen></iframe></div>"
            ]
          },
          "metadata": {}
        },
        {
          "output_type": "execute_result",
          "data": {
            "text/plain": []
          },
          "metadata": {},
          "execution_count": 1
        }
      ],
      "source": [
        "# --- Import ---\n",
        "import gradio as gr\n",
        "import pickle\n",
        "import re\n",
        "import nltk\n",
        "from nltk.corpus import stopwords\n",
        "from tensorflow.keras.models import load_model\n",
        "from tensorflow.keras.preprocessing.sequence import pad_sequences\n",
        "\n",
        "# --- Setup ---\n",
        "nltk.download('stopwords')\n",
        "stop_words = set(stopwords.words('english'))\n",
        "\n",
        "# --- Load Model & Tokenizer ---\n",
        "model = load_model('bilstm_sentiment_model.h5')\n",
        "with open('tokenizer.pkl', 'rb') as f:\n",
        "    tokenizer = pickle.load(f)\n",
        "\n",
        "MAX_SEQUENCE_LENGTH = 100\n",
        "\n",
        "# --- Preprocessing ---\n",
        "def preprocess(text):\n",
        "    text = text.lower()\n",
        "    text = re.sub(r'[^\\w\\s]', '', text)\n",
        "    tokens = text.split()\n",
        "    tokens = [t for t in tokens if t not in stop_words]\n",
        "    return ' '.join(tokens)\n",
        "\n",
        "# --- Predict Function ---\n",
        "def predict_bilstm(text):\n",
        "    cleaned = preprocess(text)\n",
        "    seq = tokenizer.texts_to_sequences([cleaned])\n",
        "    padded = pad_sequences(seq, maxlen=MAX_SEQUENCE_LENGTH)\n",
        "    prob = model.predict(padded)[0][0]\n",
        "    label = \"Positive 😊\" if prob > 0.5 else \"Negative 😞\"\n",
        "    return f\"{label} ({prob:.4f})\"\n",
        "\n",
        "# --- Gradio App ---\n",
        "bilstm_interface = gr.Interface(\n",
        "    fn=predict_bilstm,\n",
        "    inputs=gr.Textbox(lines=4, placeholder=\"Masukkan review hotel...\"),\n",
        "    outputs=\"text\",\n",
        "    title=\"📊 Hotel Review Sentiment (BiLSTM)\",\n",
        "    description=\"Masukkan review hotel dan dapatkan prediksi sentimen menggunakan BiLSTM.\"\n",
        ")\n",
        "\n",
        "# --- Jalankan ---\n",
        "bilstm_interface.launch()"
      ]
    },
    {
      "cell_type": "markdown",
      "source": [
        "### Deploy DistilBERT dengan Gradio"
      ],
      "metadata": {
        "id": "rL7XL5Q9kvn6"
      }
    },
    {
      "cell_type": "code",
      "source": [
        "# --- Import ---\n",
        "import gradio as gr\n",
        "import torch\n",
        "import re\n",
        "import nltk\n",
        "from nltk.corpus import stopwords\n",
        "from transformers import DistilBertTokenizer, DistilBertForSequenceClassification\n",
        "\n",
        "# --- Setup ---\n",
        "nltk.download('stopwords')\n",
        "stop_words = set(stopwords.words('english'))\n",
        "\n",
        "device = torch.device('cuda' if torch.cuda.is_available() else 'cpu')\n",
        "\n",
        "# --- Load Model & Tokenizer ---\n",
        "model_path = \"./distilbert_model_v1\"\n",
        "model = DistilBertForSequenceClassification.from_pretrained(model_path).to(device)\n",
        "tokenizer = DistilBertTokenizer.from_pretrained(model_path)\n",
        "model.eval()\n",
        "\n",
        "# --- Preprocessing ---\n",
        "def preprocess_text(text):\n",
        "    text = re.sub(r'[^a-zA-Z\\s]', '', text)\n",
        "    text = text.lower()\n",
        "    return ' '.join([w for w in text.split() if w not in stop_words])\n",
        "\n",
        "# --- Predict Function ---\n",
        "def predict_bert(text):\n",
        "    clean = preprocess_text(text)\n",
        "    inputs = tokenizer(clean, return_tensors=\"pt\", padding=True, truncation=True, max_length=64)\n",
        "    inputs = {k: v.to(device) for k, v in inputs.items()}\n",
        "    with torch.no_grad():\n",
        "        outputs = model(**inputs)\n",
        "        pred = torch.argmax(outputs.logits, dim=1).item()\n",
        "    label = \"Positive 😊\" if pred == 1 else \"Negative 😞\"\n",
        "    return label\n",
        "\n",
        "# --- Gradio App ---\n",
        "bert_interface = gr.Interface(\n",
        "    fn=predict_bert,\n",
        "    inputs=gr.Textbox(lines=4, placeholder=\"Masukkan review hotel...\"),\n",
        "    outputs=\"text\",\n",
        "    title=\"🤖 Hotel Review Sentiment (DistilBERT)\",\n",
        "    description=\"Masukkan review hotel dan dapatkan prediksi sentimen menggunakan DistilBERT.\"\n",
        ")\n",
        "\n",
        "# --- Jalankan ---\n",
        "bert_interface.launch()"
      ],
      "metadata": {
        "id": "L9A0uDYpky36",
        "colab": {
          "base_uri": "https://localhost:8080/",
          "height": 680
        },
        "outputId": "b0fb715e-6bf1-4bf7-d6bb-2adcee8e415f"
      },
      "execution_count": 2,
      "outputs": [
        {
          "output_type": "stream",
          "name": "stderr",
          "text": [
            "[nltk_data] Downloading package stopwords to /root/nltk_data...\n",
            "[nltk_data]   Package stopwords is already up-to-date!\n"
          ]
        },
        {
          "output_type": "stream",
          "name": "stdout",
          "text": [
            "It looks like you are running Gradio on a hosted Jupyter notebook, which requires `share=True`. Automatically setting `share=True` (you can turn this off by setting `share=False` in `launch()` explicitly).\n",
            "\n",
            "Colab notebook detected. To show errors in colab notebook, set debug=True in launch()\n",
            "* Running on public URL: https://4461d631937507e8b4.gradio.live\n",
            "\n",
            "This share link expires in 1 week. For free permanent hosting and GPU upgrades, run `gradio deploy` from the terminal in the working directory to deploy to Hugging Face Spaces (https://huggingface.co/spaces)\n"
          ]
        },
        {
          "output_type": "display_data",
          "data": {
            "text/plain": [
              "<IPython.core.display.HTML object>"
            ],
            "text/html": [
              "<div><iframe src=\"https://4461d631937507e8b4.gradio.live\" width=\"100%\" height=\"500\" allow=\"autoplay; camera; microphone; clipboard-read; clipboard-write;\" frameborder=\"0\" allowfullscreen></iframe></div>"
            ]
          },
          "metadata": {}
        },
        {
          "output_type": "execute_result",
          "data": {
            "text/plain": []
          },
          "metadata": {},
          "execution_count": 2
        }
      ]
    }
  ]
}